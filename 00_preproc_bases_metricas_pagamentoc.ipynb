{
 "cells": [
  {
   "attachments": {},
   "cell_type": "markdown",
   "metadata": {},
   "source": [
    "##### TESTE TECNICO APPMAX\n",
    "1) Considere que você é o cientista de dados responsável pela análise do comportamento e evolução do balanço final da empresa mês a mês, para tal, foi disponibilizado um arquivo (metricas_financeiras_mensais) com duas colunas, uma com a data de apuração do balanço financeiro e outra com o valor em reais do balanço no mês de referência. Sendo assim, foram solicitadas as seguintes informações para a tomada de decisões futuras:\n",
    "\n",
    "- a) Quais os 5 meses com o melhor fechamento de balanço e quais os 5 meses com o pior fechamento de balanço?\n",
    "\n",
    "- b) Qual foi o melhor ano para a empresa em termos de ganho total? Qual a média de fechamento de balanço ano a ano? A média e a mediana se aproximam? Em caso de negativa, explique o motivo.\n",
    "\n",
    "- c) Qual o maior período de meses com o maior somatório de balanço ininterrupto? Em que mês se inicia e finaliza esse período e qual o valor total do mesmo? Como base para responder essas questões, considere o seguinte exemplo:\n",
    "lista_exemplo=[1,1,2,4,-5,20,-100,22]\n",
    "A faixa de maior soma se dá entre o primeiro e o sexto termo da lista, visto\n",
    "que, 1+1+2+4-5+20=23.\n",
    "\n",
    "- d) Se fosse solicitado para que você estimasse o balanço final dos meses de\n",
    "outubro, novembro e dezembro de 2024 considerando o comportamento\n",
    "observado nos meses anteriores, qual seria a sua estratégia para abordar o\n",
    "problema?\n",
    "\n",
    "2) Suponha que você esteja participando de um projeto voltado à mitigação de fraudes,\n",
    "e para tal, você deve analisar dados diversos, tais como o CPF, Telefone Celular\n",
    "(Com DDD incluso) e entre outros. Com isso em mente, responda às seguintes\n",
    "questões:\n",
    "\n",
    "a) Quais critérios você utilizaria para indicar se o CPF é válido em termos\n",
    "estruturais? Construa um algoritmo para automatizar esse processo e realize\n",
    "um teste com os seguintes CPFs, indicando aqueles que são válidos ou não:\n",
    "- 217.894.500-71\n",
    "- 112.622.670-05\n",
    "- 695.226.930-49\n",
    "- 015.897.070-51\n",
    "- 311.692.760-06\n",
    "\n",
    "b) Quais critérios você utilizaria para indicar se um telefone celular é válido ou\n",
    "não em termos estruturais? Construa um algoritmo para automatizar esse\n",
    "processo e realize um teste com os seguintes telefones, indicando aqueles\n",
    "que são válidos ou não:\n",
    "- (64) 96743-8065\n",
    "- (75) 89555-5682\n",
    "- (99) 98362-0347\n",
    "- (10) 98595-1389\n",
    "\n",
    "c) Erros e variações de escrita são comuns em processos de preenchimento de\n",
    "dados como nomes. Com isso em mente, qual estratégia você tomaria para\n",
    "que em um contexto de avaliação, um modelo retornasse True para as\n",
    "seguintes comparações:\n",
    "- Fernando dos Santos / Fernando Santos\n",
    "- Maria da Silva Rodrigues / Maria Rodrigues\n",
    "- João Roberto / joao robert\n",
    "\n",
    "3) Solicitaram para você que seja criado um modelo de apuração de métricas de\n",
    "processamento em relação ao valor, quantidade de vendas e método de pagamento.\n",
    "Para tal, uma base de dados (metricas_dados_de_pagamento) foi disponibilizada\n",
    "como referencial, contendo as colunas user_id (Representa o parceiro analisado),\n",
    "mes_ano, metodo_pagamento, status_finalizacao, qtd_total (Quantidade de\n",
    "transações) e tpv (Valor total processado). Para o fechamento de receita, são\n",
    "considerados apenas os pedidos finalizados em integrado, sendo assim, os\n",
    "questionamentos são os seguintes:\n",
    "\n",
    "- a) Qual parceiro (user_id) possui o maior processamento em termos de TPV em\n",
    "cada um dos meses?\n",
    "- b) Em qual dos meses ocorre o pico de processamento de cartão de crédito?\n",
    "- c) Parceiros supremos são aqueles que possuem média de processamento\n",
    "total superior a 300 mil reais olhando para um período de 3 meses de\n",
    "processamento, com isso em mente, quantos e quais são os parceiros\n",
    "supremos contidos na base?\n",
    "- d) Analisar a estabilidade do processamento dos parceiros é um dos pontos\n",
    "vitais para a manutenção da saúde processual de uma fintech, com isso em\n",
    "mente, em termos percentuais e inteiros, qual foi a oscilação do total de\n",
    "parceiros com processamento maior do que zero de agosto para setembro"
   ]
  },
  {
   "attachments": {},
   "cell_type": "markdown",
   "metadata": {},
   "source": [
    "Sobre as Variáveis:\n",
    "\n",
    "Base Métricas de Pagamento\n",
    "\n",
    "- mes_ano: Refere-se ao mês e ano em que uma transação ou evento ocorreu\n",
    "- metodo_pagamento: Indica o método de pagamento utilizado para a transação, como cartão de crédito, débito, transferência bancária, pagamento em dinheiro, etc.\n",
    "\n",
    "- status_finalizacao: Refere-se ao estado final da transação ou processo. \n",
    "\n",
    "- qtd_total: Representa a quantidade total de itens ou transações. \n",
    "\n",
    "- tpv: Normalmente significa \"Total de Pagamentos por Valor\" ou \"Terminal de Ponto de Venda\". \n",
    "\n",
    "- user_id: Um identificador único para o usuário que realizou a transação. \n",
    "\n",
    "Base Métricas Mensais\n",
    "\n",
    "- Data: Refere-se a data geral dos valores mensais dos balanços finais\n",
    "\n",
    "- Balanço Final: Indica o saldo financeiro final para o período especificado na coluna Data. "
   ]
  },
  {
   "attachments": {},
   "cell_type": "markdown",
   "metadata": {},
   "source": [
    "# 1. BIBLIOTECAS"
   ]
  },
  {
   "cell_type": "code",
   "execution_count": 53,
   "metadata": {},
   "outputs": [],
   "source": [
    "import pandas as pd\n",
    "import numpy as np\n",
    "import plotly.express as px\n",
    "import matplotlib.pyplot as plt\n",
    "import seaborn as sns\n",
    "from datetime import datetime"
   ]
  },
  {
   "cell_type": "code",
   "execution_count": 56,
   "metadata": {},
   "outputs": [],
   "source": [
    "pd.set_option('display.max_rows', 500)\n",
    "pd.set_option('display.max_columns', 500)\n",
    "pd.set_option('display.max_colwidth', 1000)"
   ]
  },
  {
   "attachments": {},
   "cell_type": "markdown",
   "metadata": {},
   "source": [
    "# 2. IMPORTANDO ARQUIVOS CSV"
   ]
  },
  {
   "cell_type": "code",
   "execution_count": 57,
   "metadata": {},
   "outputs": [],
   "source": [
    "df_metricas_pagamento = pd.read_csv(r'C:\\Users\\user\\Desktop\\Estudos_Data_Science\\Case_tecnico_CDJ\\metricas_dados_de_pagamento.csv')\n",
    "\n",
    "df_metricas_mensais = pd.read_csv(r'C:\\Users\\user\\Desktop\\Estudos_Data_Science\\Case_tecnico_CDJ\\metricas_financeiras_mensais.csv')"
   ]
  },
  {
   "attachments": {},
   "cell_type": "markdown",
   "metadata": {},
   "source": [
    "# 4. EDA"
   ]
  },
  {
   "attachments": {},
   "cell_type": "markdown",
   "metadata": {},
   "source": [
    "## 4.1 EDA df_pagamento\n",
    "\n",
    "Análise dos meses de Julho, Agosto e Setembro"
   ]
  },
  {
   "cell_type": "code",
   "execution_count": 58,
   "metadata": {},
   "outputs": [
    {
     "data": {
      "text/html": [
       "<div>\n",
       "<style scoped>\n",
       "    .dataframe tbody tr th:only-of-type {\n",
       "        vertical-align: middle;\n",
       "    }\n",
       "\n",
       "    .dataframe tbody tr th {\n",
       "        vertical-align: top;\n",
       "    }\n",
       "\n",
       "    .dataframe thead th {\n",
       "        text-align: right;\n",
       "    }\n",
       "</style>\n",
       "<table border=\"1\" class=\"dataframe\">\n",
       "  <thead>\n",
       "    <tr style=\"text-align: right;\">\n",
       "      <th></th>\n",
       "      <th>mes_ano</th>\n",
       "      <th>metodo_pagamento</th>\n",
       "      <th>status_finalizacao</th>\n",
       "      <th>qtd_total</th>\n",
       "      <th>tpv</th>\n",
       "      <th>user_id</th>\n",
       "    </tr>\n",
       "  </thead>\n",
       "  <tbody>\n",
       "    <tr>\n",
       "      <th>0</th>\n",
       "      <td>2024-08</td>\n",
       "      <td>CreditCard</td>\n",
       "      <td>integrado</td>\n",
       "      <td>25</td>\n",
       "      <td>5400.20</td>\n",
       "      <td>1</td>\n",
       "    </tr>\n",
       "    <tr>\n",
       "      <th>1</th>\n",
       "      <td>2024-07</td>\n",
       "      <td>CreditCard</td>\n",
       "      <td>cancelado</td>\n",
       "      <td>133</td>\n",
       "      <td>14704.70</td>\n",
       "      <td>1</td>\n",
       "    </tr>\n",
       "    <tr>\n",
       "      <th>2</th>\n",
       "      <td>2024-08</td>\n",
       "      <td>CreditCard</td>\n",
       "      <td>cancelado</td>\n",
       "      <td>130</td>\n",
       "      <td>14830.37</td>\n",
       "      <td>1</td>\n",
       "    </tr>\n",
       "    <tr>\n",
       "      <th>3</th>\n",
       "      <td>2024-07</td>\n",
       "      <td>CreditCard</td>\n",
       "      <td>recusado_por_risco</td>\n",
       "      <td>2</td>\n",
       "      <td>259.80</td>\n",
       "      <td>1</td>\n",
       "    </tr>\n",
       "    <tr>\n",
       "      <th>4</th>\n",
       "      <td>2024-09</td>\n",
       "      <td>CreditCard</td>\n",
       "      <td>recusado_por_risco</td>\n",
       "      <td>4</td>\n",
       "      <td>309.60</td>\n",
       "      <td>1</td>\n",
       "    </tr>\n",
       "    <tr>\n",
       "      <th>5</th>\n",
       "      <td>2024-07</td>\n",
       "      <td>CreditCard</td>\n",
       "      <td>integrado</td>\n",
       "      <td>36</td>\n",
       "      <td>5345.00</td>\n",
       "      <td>1</td>\n",
       "    </tr>\n",
       "    <tr>\n",
       "      <th>6</th>\n",
       "      <td>2024-09</td>\n",
       "      <td>CreditCard</td>\n",
       "      <td>cancelado</td>\n",
       "      <td>85</td>\n",
       "      <td>8662.46</td>\n",
       "      <td>1</td>\n",
       "    </tr>\n",
       "    <tr>\n",
       "      <th>7</th>\n",
       "      <td>2024-09</td>\n",
       "      <td>CreditCard</td>\n",
       "      <td>integrado</td>\n",
       "      <td>13</td>\n",
       "      <td>2512.09</td>\n",
       "      <td>1</td>\n",
       "    </tr>\n",
       "    <tr>\n",
       "      <th>8</th>\n",
       "      <td>2024-08</td>\n",
       "      <td>CreditCard</td>\n",
       "      <td>recusado_por_risco</td>\n",
       "      <td>1</td>\n",
       "      <td>179.80</td>\n",
       "      <td>1</td>\n",
       "    </tr>\n",
       "    <tr>\n",
       "      <th>9</th>\n",
       "      <td>2024-08</td>\n",
       "      <td>Pix</td>\n",
       "      <td>cancelado</td>\n",
       "      <td>27</td>\n",
       "      <td>3447.64</td>\n",
       "      <td>2</td>\n",
       "    </tr>\n",
       "  </tbody>\n",
       "</table>\n",
       "</div>"
      ],
      "text/plain": [
       "   mes_ano metodo_pagamento  status_finalizacao  qtd_total       tpv  user_id\n",
       "0  2024-08       CreditCard           integrado         25   5400.20        1\n",
       "1  2024-07       CreditCard           cancelado        133  14704.70        1\n",
       "2  2024-08       CreditCard           cancelado        130  14830.37        1\n",
       "3  2024-07       CreditCard  recusado_por_risco          2    259.80        1\n",
       "4  2024-09       CreditCard  recusado_por_risco          4    309.60        1\n",
       "5  2024-07       CreditCard           integrado         36   5345.00        1\n",
       "6  2024-09       CreditCard           cancelado         85   8662.46        1\n",
       "7  2024-09       CreditCard           integrado         13   2512.09        1\n",
       "8  2024-08       CreditCard  recusado_por_risco          1    179.80        1\n",
       "9  2024-08              Pix           cancelado         27   3447.64        2"
      ]
     },
     "execution_count": 58,
     "metadata": {},
     "output_type": "execute_result"
    }
   ],
   "source": [
    "\n",
    "df_metricas_pagamento.head(10)"
   ]
  },
  {
   "cell_type": "code",
   "execution_count": 59,
   "metadata": {},
   "outputs": [
    {
     "name": "stdout",
     "output_type": "stream",
     "text": [
      "\n",
      "    Linhas: 86128\n",
      "    Colunas: 6\n"
     ]
    }
   ],
   "source": [
    "# Dimensao da tebela\n",
    "print(\"\"\"\n",
    "    Linhas: {}\n",
    "    Colunas: {}\"\"\".format(df_metricas_pagamento.shape[0], df_metricas_pagamento.shape[1]))"
   ]
  },
  {
   "cell_type": "code",
   "execution_count": 60,
   "metadata": {},
   "outputs": [
    {
     "name": "stdout",
     "output_type": "stream",
     "text": [
      "<class 'pandas.core.frame.DataFrame'>\n",
      "RangeIndex: 86128 entries, 0 to 86127\n",
      "Data columns (total 6 columns):\n",
      " #   Column              Non-Null Count  Dtype  \n",
      "---  ------              --------------  -----  \n",
      " 0   mes_ano             86128 non-null  object \n",
      " 1   metodo_pagamento    85078 non-null  object \n",
      " 2   status_finalizacao  86128 non-null  object \n",
      " 3   qtd_total           86128 non-null  int64  \n",
      " 4   tpv                 86128 non-null  float64\n",
      " 5   user_id             86128 non-null  int64  \n",
      "dtypes: float64(1), int64(2), object(3)\n",
      "memory usage: 3.9+ MB\n"
     ]
    }
   ],
   "source": [
    "# Tipo de dados\n",
    "df_metricas_pagamento.info()"
   ]
  },
  {
   "cell_type": "code",
   "execution_count": 61,
   "metadata": {},
   "outputs": [
    {
     "data": {
      "text/plain": [
       "tpv                   63860\n",
       "user_id               18374\n",
       "qtd_total              1413\n",
       "mes_ano                   3\n",
       "metodo_pagamento          3\n",
       "status_finalizacao        3\n",
       "dtype: int64"
      ]
     },
     "execution_count": 61,
     "metadata": {},
     "output_type": "execute_result"
    }
   ],
   "source": [
    "# Valores distintos de cada variável (sem considerar nulos na contagem)\n",
    "df_metricas_pagamento.nunique(dropna=True).sort_values(ascending=False)"
   ]
  },
  {
   "cell_type": "code",
   "execution_count": 62,
   "metadata": {},
   "outputs": [
    {
     "data": {
      "text/plain": [
       "mes_ano                  0\n",
       "metodo_pagamento      1050\n",
       "status_finalizacao       0\n",
       "qtd_total                0\n",
       "tpv                      0\n",
       "user_id                  0\n",
       "dtype: int64"
      ]
     },
     "execution_count": 62,
     "metadata": {},
     "output_type": "execute_result"
    }
   ],
   "source": [
    "# Quantidade de valores nulo\n",
    "df_metricas_pagamento.isna().sum()"
   ]
  },
  {
   "cell_type": "code",
   "execution_count": 63,
   "metadata": {},
   "outputs": [
    {
     "name": "stdout",
     "output_type": "stream",
     "text": [
      "percentual de valores nulos da coluna método de pagamento: 1.22 %\n"
     ]
    }
   ],
   "source": [
    "#percentual de valores nulos da coluna metodo de pagamento\n",
    "porcentagem_nulos = df_metricas_pagamento['metodo_pagamento'].isnull().sum() / df_metricas_pagamento.shape[0]*100\n",
    "print(f'percentual de valores nulos da coluna método de pagamento: {porcentagem_nulos:.2f} %')"
   ]
  },
  {
   "cell_type": "code",
   "execution_count": 64,
   "metadata": {},
   "outputs": [],
   "source": [
    "# transformar coluna mes_ano para tipo datetime\n",
    "\n",
    "df_metricas_pagamento['mes_ano'] = pd.to_datetime(df_metricas_pagamento['mes_ano'], format=('%Y-%m') )\n"
   ]
  },
  {
   "cell_type": "code",
   "execution_count": 65,
   "metadata": {},
   "outputs": [],
   "source": [
    "# Definições de variáveis de acordo com seu tipo.\n",
    "numericas = list(df_metricas_pagamento.select_dtypes('number').columns)\n",
    "categoricas = list(df_metricas_pagamento.select_dtypes(object).columns)\n",
    "\n",
    "# Remoção da chave de identificação.\n",
    "numericas.remove('user_id')"
   ]
  },
  {
   "attachments": {},
   "cell_type": "markdown",
   "metadata": {},
   "source": [
    "4.2 Variáveis numéricas:"
   ]
  },
  {
   "cell_type": "code",
   "execution_count": 66,
   "metadata": {},
   "outputs": [
    {
     "data": {
      "text/html": [
       "<div>\n",
       "<style scoped>\n",
       "    .dataframe tbody tr th:only-of-type {\n",
       "        vertical-align: middle;\n",
       "    }\n",
       "\n",
       "    .dataframe tbody tr th {\n",
       "        vertical-align: top;\n",
       "    }\n",
       "\n",
       "    .dataframe thead th {\n",
       "        text-align: right;\n",
       "    }\n",
       "</style>\n",
       "<table border=\"1\" class=\"dataframe\">\n",
       "  <thead>\n",
       "    <tr style=\"text-align: right;\">\n",
       "      <th></th>\n",
       "      <th>count</th>\n",
       "      <th>mean</th>\n",
       "      <th>std</th>\n",
       "      <th>min</th>\n",
       "      <th>25%</th>\n",
       "      <th>50%</th>\n",
       "      <th>75%</th>\n",
       "      <th>max</th>\n",
       "    </tr>\n",
       "  </thead>\n",
       "  <tbody>\n",
       "    <tr>\n",
       "      <th>qtd_total</th>\n",
       "      <td>86128.0</td>\n",
       "      <td>52.539116</td>\n",
       "      <td>5.069875e+02</td>\n",
       "      <td>1.00</td>\n",
       "      <td>1.0000</td>\n",
       "      <td>4.000</td>\n",
       "      <td>18.0000</td>\n",
       "      <td>5.607900e+04</td>\n",
       "    </tr>\n",
       "    <tr>\n",
       "      <th>tpv</th>\n",
       "      <td>86128.0</td>\n",
       "      <td>43326.453951</td>\n",
       "      <td>6.951692e+06</td>\n",
       "      <td>-707.01</td>\n",
       "      <td>241.9425</td>\n",
       "      <td>924.085</td>\n",
       "      <td>4897.0425</td>\n",
       "      <td>1.999161e+09</td>\n",
       "    </tr>\n",
       "  </tbody>\n",
       "</table>\n",
       "</div>"
      ],
      "text/plain": [
       "             count          mean           std     min       25%      50%  \\\n",
       "qtd_total  86128.0     52.539116  5.069875e+02    1.00    1.0000    4.000   \n",
       "tpv        86128.0  43326.453951  6.951692e+06 -707.01  241.9425  924.085   \n",
       "\n",
       "                 75%           max  \n",
       "qtd_total    18.0000  5.607900e+04  \n",
       "tpv        4897.0425  1.999161e+09  "
      ]
     },
     "execution_count": 66,
     "metadata": {},
     "output_type": "execute_result"
    }
   ],
   "source": [
    "df_metricas_pagamento[numericas].describe().T"
   ]
  },
  {
   "attachments": {},
   "cell_type": "markdown",
   "metadata": {},
   "source": [
    "4.3 Variáveis categóricas: "
   ]
  },
  {
   "cell_type": "code",
   "execution_count": 67,
   "metadata": {},
   "outputs": [
    {
     "data": {
      "text/html": [
       "<div>\n",
       "<style scoped>\n",
       "    .dataframe tbody tr th:only-of-type {\n",
       "        vertical-align: middle;\n",
       "    }\n",
       "\n",
       "    .dataframe tbody tr th {\n",
       "        vertical-align: top;\n",
       "    }\n",
       "\n",
       "    .dataframe thead th {\n",
       "        text-align: right;\n",
       "    }\n",
       "</style>\n",
       "<table border=\"1\" class=\"dataframe\">\n",
       "  <thead>\n",
       "    <tr style=\"text-align: right;\">\n",
       "      <th></th>\n",
       "      <th>count</th>\n",
       "      <th>unique</th>\n",
       "      <th>top</th>\n",
       "      <th>freq</th>\n",
       "    </tr>\n",
       "  </thead>\n",
       "  <tbody>\n",
       "    <tr>\n",
       "      <th>metodo_pagamento</th>\n",
       "      <td>85078</td>\n",
       "      <td>3</td>\n",
       "      <td>CreditCard</td>\n",
       "      <td>41594</td>\n",
       "    </tr>\n",
       "    <tr>\n",
       "      <th>status_finalizacao</th>\n",
       "      <td>86128</td>\n",
       "      <td>3</td>\n",
       "      <td>integrado</td>\n",
       "      <td>41061</td>\n",
       "    </tr>\n",
       "  </tbody>\n",
       "</table>\n",
       "</div>"
      ],
      "text/plain": [
       "                    count unique         top   freq\n",
       "metodo_pagamento    85078      3  CreditCard  41594\n",
       "status_finalizacao  86128      3   integrado  41061"
      ]
     },
     "execution_count": 67,
     "metadata": {},
     "output_type": "execute_result"
    }
   ],
   "source": [
    "df_metricas_pagamento[categoricas].describe().T"
   ]
  },
  {
   "attachments": {},
   "cell_type": "markdown",
   "metadata": {},
   "source": [
    " 4.4 Análise da distribuição de valores por variável"
   ]
  },
  {
   "cell_type": "code",
   "execution_count": 68,
   "metadata": {},
   "outputs": [
    {
     "data": {
      "text/plain": [
       "Index(['mes_ano', 'metodo_pagamento', 'status_finalizacao', 'qtd_total', 'tpv',\n",
       "       'user_id'],\n",
       "      dtype='object')"
      ]
     },
     "execution_count": 68,
     "metadata": {},
     "output_type": "execute_result"
    }
   ],
   "source": [
    "df_metricas_pagamento.columns"
   ]
  },
  {
   "cell_type": "code",
   "execution_count": 69,
   "metadata": {},
   "outputs": [
    {
     "data": {
      "text/plain": [
       "mes_ano\n",
       "2024-07-01    31085\n",
       "2024-08-01    28929\n",
       "2024-09-01    26114\n",
       "Name: count, dtype: int64"
      ]
     },
     "execution_count": 69,
     "metadata": {},
     "output_type": "execute_result"
    }
   ],
   "source": [
    "df_metricas_pagamento['mes_ano'].value_counts()"
   ]
  },
  {
   "cell_type": "code",
   "execution_count": 70,
   "metadata": {},
   "outputs": [
    {
     "data": {
      "text/plain": [
       "metodo_pagamento\n",
       "CreditCard    41594\n",
       "Pix           37825\n",
       "Boleto         5659\n",
       "Name: count, dtype: int64"
      ]
     },
     "execution_count": 70,
     "metadata": {},
     "output_type": "execute_result"
    }
   ],
   "source": [
    "df_metricas_pagamento['metodo_pagamento'].value_counts()"
   ]
  },
  {
   "cell_type": "code",
   "execution_count": 71,
   "metadata": {},
   "outputs": [
    {
     "data": {
      "text/plain": [
       "status_finalizacao\n",
       "integrado             41061\n",
       "cancelado             37341\n",
       "recusado_por_risco     7726\n",
       "Name: count, dtype: int64"
      ]
     },
     "execution_count": 71,
     "metadata": {},
     "output_type": "execute_result"
    }
   ],
   "source": [
    "df_metricas_pagamento['status_finalizacao'].value_counts()"
   ]
  },
  {
   "cell_type": "code",
   "execution_count": 72,
   "metadata": {},
   "outputs": [
    {
     "data": {
      "text/plain": [
       "qtd_total\n",
       "1        24886\n",
       "2        10836\n",
       "3         6340\n",
       "4         4268\n",
       "5         3166\n",
       "         ...  \n",
       "13631        1\n",
       "727          1\n",
       "1155         1\n",
       "8726         1\n",
       "4812         1\n",
       "Name: count, Length: 1413, dtype: int64"
      ]
     },
     "execution_count": 72,
     "metadata": {},
     "output_type": "execute_result"
    }
   ],
   "source": [
    "df_metricas_pagamento['qtd_total'].value_counts()"
   ]
  },
  {
   "cell_type": "code",
   "execution_count": 73,
   "metadata": {},
   "outputs": [
    {
     "data": {
      "text/plain": [
       "user_id\n",
       "629      24\n",
       "9133     24\n",
       "2499     23\n",
       "359      23\n",
       "770      23\n",
       "         ..\n",
       "12748     1\n",
       "12746     1\n",
       "12744     1\n",
       "12742     1\n",
       "18374     1\n",
       "Name: count, Length: 18374, dtype: int64"
      ]
     },
     "execution_count": 73,
     "metadata": {},
     "output_type": "execute_result"
    }
   ],
   "source": [
    "df_metricas_pagamento['user_id'].value_counts()"
   ]
  },
  {
   "cell_type": "code",
   "execution_count": 74,
   "metadata": {},
   "outputs": [
    {
     "data": {
      "text/plain": [
       "18374"
      ]
     },
     "execution_count": 74,
     "metadata": {},
     "output_type": "execute_result"
    }
   ],
   "source": [
    "df_metricas_pagamento['user_id'].nunique()"
   ]
  },
  {
   "cell_type": "code",
   "execution_count": 75,
   "metadata": {},
   "outputs": [
    {
     "data": {
      "text/plain": [
       "tpv\n",
       "5.00       391\n",
       "10.00      231\n",
       "0.00       208\n",
       "89.90      173\n",
       "1.00       171\n",
       "          ... \n",
       "1825.79      1\n",
       "1471.91      1\n",
       "2047.87      1\n",
       "6779.20      1\n",
       "118.23       1\n",
       "Name: count, Length: 63860, dtype: int64"
      ]
     },
     "execution_count": 75,
     "metadata": {},
     "output_type": "execute_result"
    }
   ],
   "source": [
    "df_metricas_pagamento['tpv'].value_counts()"
   ]
  },
  {
   "cell_type": "code",
   "execution_count": 93,
   "metadata": {},
   "outputs": [
    {
     "data": {
      "image/png": "[encoded data removed]",
      "text/plain": [
       "<Figure size 1000x600 with 1 Axes>"
      ]
     },
     "metadata": {},
     "output_type": "display_data"
    }
   ],
   "source": [
    "#verificar Outliers:\n",
    "plt.figure(figsize=(10, 6))\n",
    "\n",
    "# Criar o box plot\n",
    "sns.boxplot(y='qtd_total', data=df_metricas_pagamento, color='skyblue')\n",
    "plt.title('Quantidade total de transações', fontsize=18)\n",
    "plt.ylabel('qtd_total', fontsize=14)\n",
    "plt.xlabel('Distribuição', fontsize=14)\n",
    "\n",
    "plt.tight_layout()\n",
    "plt.show()\n",
    "\n"
   ]
  },
  {
   "attachments": {},
   "cell_type": "markdown",
   "metadata": {},
   "source": [
    "## EDA df_métricas_mensais"
   ]
  },
  {
   "cell_type": "code",
   "execution_count": 76,
   "metadata": {},
   "outputs": [
    {
     "data": {
      "text/html": [
       "<div>\n",
       "<style scoped>\n",
       "    .dataframe tbody tr th:only-of-type {\n",
       "        vertical-align: middle;\n",
       "    }\n",
       "\n",
       "    .dataframe tbody tr th {\n",
       "        vertical-align: top;\n",
       "    }\n",
       "\n",
       "    .dataframe thead th {\n",
       "        text-align: right;\n",
       "    }\n",
       "</style>\n",
       "<table border=\"1\" class=\"dataframe\">\n",
       "  <thead>\n",
       "    <tr style=\"text-align: right;\">\n",
       "      <th></th>\n",
       "      <th>Data</th>\n",
       "      <th>Balanço Final</th>\n",
       "    </tr>\n",
       "  </thead>\n",
       "  <tbody>\n",
       "    <tr>\n",
       "      <th>0</th>\n",
       "      <td>2010-01</td>\n",
       "      <td>32411.56</td>\n",
       "    </tr>\n",
       "    <tr>\n",
       "      <th>1</th>\n",
       "      <td>2010-02</td>\n",
       "      <td>-62423.96</td>\n",
       "    </tr>\n",
       "    <tr>\n",
       "      <th>2</th>\n",
       "      <td>2010-03</td>\n",
       "      <td>135070.95</td>\n",
       "    </tr>\n",
       "    <tr>\n",
       "      <th>3</th>\n",
       "      <td>2010-04</td>\n",
       "      <td>-94712.30</td>\n",
       "    </tr>\n",
       "    <tr>\n",
       "      <th>4</th>\n",
       "      <td>2010-05</td>\n",
       "      <td>4944.98</td>\n",
       "    </tr>\n",
       "  </tbody>\n",
       "</table>\n",
       "</div>"
      ],
      "text/plain": [
       "      Data  Balanço Final\n",
       "0  2010-01       32411.56\n",
       "1  2010-02      -62423.96\n",
       "2  2010-03      135070.95\n",
       "3  2010-04      -94712.30\n",
       "4  2010-05        4944.98"
      ]
     },
     "execution_count": 76,
     "metadata": {},
     "output_type": "execute_result"
    }
   ],
   "source": [
    "df_metricas_mensais.head()"
   ]
  },
  {
   "cell_type": "code",
   "execution_count": 77,
   "metadata": {},
   "outputs": [
    {
     "name": "stdout",
     "output_type": "stream",
     "text": [
      "\n",
      "    Linhas: 177\n",
      "    Colunas: 2\n"
     ]
    }
   ],
   "source": [
    "# Dimensao da tebela\n",
    "print(\"\"\"\n",
    "    Linhas: {}\n",
    "    Colunas: {}\"\"\".format(df_metricas_mensais.shape[0], df_metricas_mensais.shape[1]))"
   ]
  },
  {
   "cell_type": "code",
   "execution_count": 78,
   "metadata": {},
   "outputs": [
    {
     "data": {
      "text/plain": [
       "Data\n",
       "2010-01    1\n",
       "2017-06    1\n",
       "2019-06    1\n",
       "2019-07    1\n",
       "2019-08    1\n",
       "2019-09    1\n",
       "2019-10    1\n",
       "2019-11    1\n",
       "2019-12    1\n",
       "2020-01    1\n",
       "2020-02    1\n",
       "2020-03    1\n",
       "2020-04    1\n",
       "2020-05    1\n",
       "2020-06    1\n",
       "2020-07    1\n",
       "2020-08    1\n",
       "2020-09    1\n",
       "2020-10    1\n",
       "2020-11    1\n",
       "2020-12    1\n",
       "2019-05    1\n",
       "2019-04    1\n",
       "2019-03    1\n",
       "2018-04    1\n",
       "2017-08    1\n",
       "2017-09    1\n",
       "2017-10    1\n",
       "2017-11    1\n",
       "2017-12    1\n",
       "2018-01    1\n",
       "2018-02    1\n",
       "2018-03    1\n",
       "2018-05    1\n",
       "2019-02    1\n",
       "2018-06    1\n",
       "2018-07    1\n",
       "2018-08    1\n",
       "2018-09    1\n",
       "2018-10    1\n",
       "2018-11    1\n",
       "2018-12    1\n",
       "2019-01    1\n",
       "2021-01    1\n",
       "2021-02    1\n",
       "2021-03    1\n",
       "2023-11    1\n",
       "2023-03    1\n",
       "2023-04    1\n",
       "2023-05    1\n",
       "2023-06    1\n",
       "2023-07    1\n",
       "2023-08    1\n",
       "2023-09    1\n",
       "2023-10    1\n",
       "2023-12    1\n",
       "2023-01    1\n",
       "2024-01    1\n",
       "2024-02    1\n",
       "2024-03    1\n",
       "2024-04    1\n",
       "2024-05    1\n",
       "2024-06    1\n",
       "2024-07    1\n",
       "2024-08    1\n",
       "2023-02    1\n",
       "2022-12    1\n",
       "2021-04    1\n",
       "2022-01    1\n",
       "2021-05    1\n",
       "2021-06    1\n",
       "2021-07    1\n",
       "2021-08    1\n",
       "2021-09    1\n",
       "2021-10    1\n",
       "2021-11    1\n",
       "2021-12    1\n",
       "2022-02    1\n",
       "2022-11    1\n",
       "2022-03    1\n",
       "2022-04    1\n",
       "2022-05    1\n",
       "2022-06    1\n",
       "2022-07    1\n",
       "2022-08    1\n",
       "2022-09    1\n",
       "2022-10    1\n",
       "2017-07    1\n",
       "2017-05    1\n",
       "2010-02    1\n",
       "2017-04    1\n",
       "2012-01    1\n",
       "2012-02    1\n",
       "2012-03    1\n",
       "2012-04    1\n",
       "2012-05    1\n",
       "2012-06    1\n",
       "2012-07    1\n",
       "2012-08    1\n",
       "2012-09    1\n",
       "2012-10    1\n",
       "2012-11    1\n",
       "2012-12    1\n",
       "2013-01    1\n",
       "2013-02    1\n",
       "2013-03    1\n",
       "2013-04    1\n",
       "2013-05    1\n",
       "2013-06    1\n",
       "2013-07    1\n",
       "2011-12    1\n",
       "2011-11    1\n",
       "2011-10    1\n",
       "2010-11    1\n",
       "2010-03    1\n",
       "2010-04    1\n",
       "2010-05    1\n",
       "2010-06    1\n",
       "2010-07    1\n",
       "2010-08    1\n",
       "2010-09    1\n",
       "2010-10    1\n",
       "2010-12    1\n",
       "2011-09    1\n",
       "2011-01    1\n",
       "2011-02    1\n",
       "2011-03    1\n",
       "2011-04    1\n",
       "2011-05    1\n",
       "2011-06    1\n",
       "2011-07    1\n",
       "2011-08    1\n",
       "2013-08    1\n",
       "2013-09    1\n",
       "2013-10    1\n",
       "2016-06    1\n",
       "2015-10    1\n",
       "2015-11    1\n",
       "2015-12    1\n",
       "2016-01    1\n",
       "2016-02    1\n",
       "2016-03    1\n",
       "2016-04    1\n",
       "2016-05    1\n",
       "2016-07    1\n",
       "2015-08    1\n",
       "2016-08    1\n",
       "2016-09    1\n",
       "2016-10    1\n",
       "2016-11    1\n",
       "2016-12    1\n",
       "2017-01    1\n",
       "2017-02    1\n",
       "2017-03    1\n",
       "2015-09    1\n",
       "2015-07    1\n",
       "2013-11    1\n",
       "2014-08    1\n",
       "2013-12    1\n",
       "2014-01    1\n",
       "2014-02    1\n",
       "2014-03    1\n",
       "2014-04    1\n",
       "2014-05    1\n",
       "2014-06    1\n",
       "2014-07    1\n",
       "2014-09    1\n",
       "2015-06    1\n",
       "2014-10    1\n",
       "2014-11    1\n",
       "2014-12    1\n",
       "2015-01    1\n",
       "2015-02    1\n",
       "2015-03    1\n",
       "2015-04    1\n",
       "2015-05    1\n",
       "2024-09    1\n",
       "Name: count, dtype: int64"
      ]
     },
     "execution_count": 78,
     "metadata": {},
     "output_type": "execute_result"
    }
   ],
   "source": [
    "df_metricas_mensais['Data'].value_counts()"
   ]
  },
  {
   "cell_type": "code",
   "execution_count": 79,
   "metadata": {},
   "outputs": [
    {
     "name": "stdout",
     "output_type": "stream",
     "text": [
      "<class 'pandas.core.frame.DataFrame'>\n",
      "RangeIndex: 177 entries, 0 to 176\n",
      "Data columns (total 2 columns):\n",
      " #   Column         Non-Null Count  Dtype  \n",
      "---  ------         --------------  -----  \n",
      " 0   Data           177 non-null    object \n",
      " 1   Balanço Final  177 non-null    float64\n",
      "dtypes: float64(1), object(1)\n",
      "memory usage: 2.9+ KB\n"
     ]
    }
   ],
   "source": [
    "df_metricas_mensais.info()"
   ]
  },
  {
   "cell_type": "code",
   "execution_count": 80,
   "metadata": {},
   "outputs": [
    {
     "data": {
      "text/plain": [
       "Data             0\n",
       "Balanço Final    0\n",
       "dtype: int64"
      ]
     },
     "execution_count": 80,
     "metadata": {},
     "output_type": "execute_result"
    }
   ],
   "source": [
    "df_metricas_mensais.isna().sum()"
   ]
  },
  {
   "cell_type": "code",
   "execution_count": 81,
   "metadata": {},
   "outputs": [
    {
     "data": {
      "text/plain": [
       "Data             177\n",
       "Balanço Final    177\n",
       "dtype: int64"
      ]
     },
     "execution_count": 81,
     "metadata": {},
     "output_type": "execute_result"
    }
   ],
   "source": [
    "# Valores distintos de cada variável (sem considerar nulos na contagem)\n",
    "df_metricas_mensais.nunique(dropna=True).sort_values(ascending=False)"
   ]
  },
  {
   "cell_type": "code",
   "execution_count": 82,
   "metadata": {},
   "outputs": [],
   "source": [
    "# transformar coluna Data para tipo datetime\n",
    "df_metricas_mensais['Data'] = pd.to_datetime(df_metricas_mensais['Data'], format=('%Y-%m') )"
   ]
  },
  {
   "cell_type": "code",
   "execution_count": 83,
   "metadata": {},
   "outputs": [
    {
     "name": "stdout",
     "output_type": "stream",
     "text": [
      "<class 'pandas.core.frame.DataFrame'>\n",
      "RangeIndex: 177 entries, 0 to 176\n",
      "Data columns (total 2 columns):\n",
      " #   Column         Non-Null Count  Dtype         \n",
      "---  ------         --------------  -----         \n",
      " 0   Data           177 non-null    datetime64[ns]\n",
      " 1   Balanço Final  177 non-null    float64       \n",
      "dtypes: datetime64[ns](1), float64(1)\n",
      "memory usage: 2.9 KB\n"
     ]
    }
   ],
   "source": [
    "df_metricas_mensais.info()"
   ]
  },
  {
   "cell_type": "code",
   "execution_count": 84,
   "metadata": {},
   "outputs": [
    {
     "data": {
      "text/html": [
       "<div>\n",
       "<style scoped>\n",
       "    .dataframe tbody tr th:only-of-type {\n",
       "        vertical-align: middle;\n",
       "    }\n",
       "\n",
       "    .dataframe tbody tr th {\n",
       "        vertical-align: top;\n",
       "    }\n",
       "\n",
       "    .dataframe thead th {\n",
       "        text-align: right;\n",
       "    }\n",
       "</style>\n",
       "<table border=\"1\" class=\"dataframe\">\n",
       "  <thead>\n",
       "    <tr style=\"text-align: right;\">\n",
       "      <th></th>\n",
       "      <th>Data</th>\n",
       "      <th>Balanço Final</th>\n",
       "    </tr>\n",
       "  </thead>\n",
       "  <tbody>\n",
       "    <tr>\n",
       "      <th>0</th>\n",
       "      <td>2010-01-01</td>\n",
       "      <td>32411.56</td>\n",
       "    </tr>\n",
       "    <tr>\n",
       "      <th>1</th>\n",
       "      <td>2010-02-01</td>\n",
       "      <td>-62423.96</td>\n",
       "    </tr>\n",
       "    <tr>\n",
       "      <th>2</th>\n",
       "      <td>2010-03-01</td>\n",
       "      <td>135070.95</td>\n",
       "    </tr>\n",
       "    <tr>\n",
       "      <th>3</th>\n",
       "      <td>2010-04-01</td>\n",
       "      <td>-94712.30</td>\n",
       "    </tr>\n",
       "    <tr>\n",
       "      <th>4</th>\n",
       "      <td>2010-05-01</td>\n",
       "      <td>4944.98</td>\n",
       "    </tr>\n",
       "  </tbody>\n",
       "</table>\n",
       "</div>"
      ],
      "text/plain": [
       "        Data  Balanço Final\n",
       "0 2010-01-01       32411.56\n",
       "1 2010-02-01      -62423.96\n",
       "2 2010-03-01      135070.95\n",
       "3 2010-04-01      -94712.30\n",
       "4 2010-05-01        4944.98"
      ]
     },
     "execution_count": 84,
     "metadata": {},
     "output_type": "execute_result"
    }
   ],
   "source": [
    "df_metricas_mensais.head()"
   ]
  },
  {
   "cell_type": "code",
   "execution_count": 85,
   "metadata": {},
   "outputs": [
    {
     "data": {
      "text/plain": [
       "177"
      ]
     },
     "execution_count": 85,
     "metadata": {},
     "output_type": "execute_result"
    }
   ],
   "source": [
    "df_metricas_mensais['Data'].nunique()"
   ]
  },
  {
   "cell_type": "code",
   "execution_count": 86,
   "metadata": {},
   "outputs": [
    {
     "data": {
      "text/html": [
       "<div>\n",
       "<style scoped>\n",
       "    .dataframe tbody tr th:only-of-type {\n",
       "        vertical-align: middle;\n",
       "    }\n",
       "\n",
       "    .dataframe tbody tr th {\n",
       "        vertical-align: top;\n",
       "    }\n",
       "\n",
       "    .dataframe thead th {\n",
       "        text-align: right;\n",
       "    }\n",
       "</style>\n",
       "<table border=\"1\" class=\"dataframe\">\n",
       "  <thead>\n",
       "    <tr style=\"text-align: right;\">\n",
       "      <th></th>\n",
       "      <th>Data</th>\n",
       "      <th>Balanço Final</th>\n",
       "    </tr>\n",
       "  </thead>\n",
       "  <tbody>\n",
       "    <tr>\n",
       "      <th>count</th>\n",
       "      <td>177</td>\n",
       "      <td>177.000000</td>\n",
       "    </tr>\n",
       "    <tr>\n",
       "      <th>mean</th>\n",
       "      <td>2017-05-01 15:43:43.728813568</td>\n",
       "      <td>-1832.116271</td>\n",
       "    </tr>\n",
       "    <tr>\n",
       "      <th>min</th>\n",
       "      <td>2010-01-01 00:00:00</td>\n",
       "      <td>-245650.860000</td>\n",
       "    </tr>\n",
       "    <tr>\n",
       "      <th>25%</th>\n",
       "      <td>2013-09-01 00:00:00</td>\n",
       "      <td>-59004.140000</td>\n",
       "    </tr>\n",
       "    <tr>\n",
       "      <th>50%</th>\n",
       "      <td>2017-05-01 00:00:00</td>\n",
       "      <td>-3043.120000</td>\n",
       "    </tr>\n",
       "    <tr>\n",
       "      <th>75%</th>\n",
       "      <td>2021-01-01 00:00:00</td>\n",
       "      <td>67170.960000</td>\n",
       "    </tr>\n",
       "    <tr>\n",
       "      <th>max</th>\n",
       "      <td>2024-09-01 00:00:00</td>\n",
       "      <td>268988.610000</td>\n",
       "    </tr>\n",
       "    <tr>\n",
       "      <th>std</th>\n",
       "      <td>NaN</td>\n",
       "      <td>104087.153158</td>\n",
       "    </tr>\n",
       "  </tbody>\n",
       "</table>\n",
       "</div>"
      ],
      "text/plain": [
       "                                Data  Balanço Final\n",
       "count                            177     177.000000\n",
       "mean   2017-05-01 15:43:43.728813568   -1832.116271\n",
       "min              2010-01-01 00:00:00 -245650.860000\n",
       "25%              2013-09-01 00:00:00  -59004.140000\n",
       "50%              2017-05-01 00:00:00   -3043.120000\n",
       "75%              2021-01-01 00:00:00   67170.960000\n",
       "max              2024-09-01 00:00:00  268988.610000\n",
       "std                              NaN  104087.153158"
      ]
     },
     "execution_count": 86,
     "metadata": {},
     "output_type": "execute_result"
    }
   ],
   "source": [
    "df_metricas_mensais.describe()"
   ]
  },
  {
   "cell_type": "code",
   "execution_count": 87,
   "metadata": {},
   "outputs": [
    {
     "data": {
      "image/png": "[encoded data removed]",
      "text/plain": [
       "<Figure size 640x480 with 1 Axes>"
      ]
     },
     "metadata": {},
     "output_type": "display_data"
    }
   ],
   "source": [
    "plt.hist(x = df_metricas_mensais['Data']);"
   ]
  },
  {
   "cell_type": "code",
   "execution_count": 88,
   "metadata": {},
   "outputs": [
    {
     "data": {
      "image/png": "[encoded data removed]",
      "text/plain": [
       "<Figure size 640x480 with 1 Axes>"
      ]
     },
     "metadata": {},
     "output_type": "display_data"
    }
   ],
   "source": [
    "plt.hist(x = df_metricas_mensais['Balanço Final']);"
   ]
  },
  {
   "cell_type": "code",
   "execution_count": 94,
   "metadata": {},
   "outputs": [
    {
     "data": {
      "image/png": "[encoded data removed]",
      "text/plain": [
       "<Figure size 1000x600 with 1 Axes>"
      ]
     },
     "metadata": {},
     "output_type": "display_data"
    }
   ],
   "source": [
    "#verificar Outliers:\n",
    "plt.figure(figsize=(10, 6))\n",
    "\n",
    "# Criar o box plot\n",
    "sns.boxplot(y='Balanço Final', data=df_metricas_mensais, color='skyblue')\n",
    "plt.title('Quantidade total de transações', fontsize=18)\n",
    "plt.ylabel('qtd_total', fontsize=14)\n",
    "plt.xlabel('Distribuição', fontsize=14)\n",
    "\n",
    "plt.tight_layout()\n",
    "plt.show()"
   ]
  },
  {
   "cell_type": "code",
   "execution_count": 96,
   "metadata": {},
   "outputs": [
    {
     "name": "stdout",
     "output_type": "stream",
     "text": [
      "Outliers identificados:\n",
      "         Data  Balanço Final\n",
      "13 2011-02-01      263324.75\n",
      "63 2015-04-01      268988.61\n",
      "Número de outliers: 2\n",
      "Limite inferior: -248266.79000000004\n",
      "Limite superior: 256433.61000000004\n"
     ]
    }
   ],
   "source": [
    "\n",
    "# Verificar a coluna 'Balanço Final' para identificar outliers\n",
    "\n",
    "# Calcular Q1 (25º percentil) e Q3 (75º percentil)\n",
    "Q1 = df_metricas_mensais['Balanço Final'].quantile(0.25)\n",
    "Q3 = df_metricas_mensais['Balanço Final'].quantile(0.75)\n",
    "IQR = Q3 - Q1\n",
    "\n",
    "# Definir limites inferior e superior para identificar outliers\n",
    "limite_inferior = Q1 - 1.5 * IQR\n",
    "limite_superior = Q3 + 1.5 * IQR\n",
    "\n",
    "# Identificar outliers\n",
    "outliers = df_metricas_mensais[(df_metricas_mensais['Balanço Final'] < limite_inferior) | \n",
    "                                (df_metricas_mensais['Balanço Final'] > limite_superior)]\n",
    "\n",
    "\n",
    "print(\"Outliers identificados:\")\n",
    "print(outliers)\n",
    "num_outliers = outliers.shape[0]\n",
    "print(f\"Número de outliers: {num_outliers}\")\n",
    "print(f\"Limite inferior: {limite_inferior}\")\n",
    "print(f\"Limite superior: {limite_superior}\")\n"
   ]
  }
 ],
 "metadata": {
  "kernelspec": {
   "display_name": ".venv",
   "language": "python",
   "name": "python3"
  },
  "language_info": {
   "codemirror_mode": {
    "name": "ipython",
    "version": 3
   },
   "file_extension": ".py",
   "mimetype": "text/x-python",
   "name": "python",
   "nbconvert_exporter": "python",
   "pygments_lexer": "ipython3",
   "version": "3.11.3"
  },
  "orig_nbformat": 4
 },
 "nbformat": 4,
 "nbformat_minor": 2
}
