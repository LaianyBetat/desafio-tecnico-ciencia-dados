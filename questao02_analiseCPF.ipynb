{
 "cells": [
  {
   "attachments": {},
   "cell_type": "markdown",
   "metadata": {},
   "source": [
    "### Case a ser respondindo sobre análise de cpf, números e nomes\n",
    "\n",
    "Suponha que você esteja participando de um projeto voltado à mitigação de fraudes,\n",
    "e para tal, você deve analisar dados diversos, tais como o CPF, Telefone Celular\n",
    "(Com DDD incluso) e entre outros. Com isso em mente, responda às seguintes\n",
    "questões:\n",
    "\n"
   ]
  },
  {
   "attachments": {},
   "cell_type": "markdown",
   "metadata": {},
   "source": [
    "a) Quais critérios você utilizaria para indicar se o CPF é válido em termos\n",
    "estruturais? Construa um algoritmo para automatizar esse processo e realize\n",
    "um teste com os seguintes CPFs, indicando aqueles que são válidos ou não:\n",
    "- 217.894.500-71\n",
    "- 112.622.670-05\n",
    "- 695.226.930-49\n",
    "- 015.897.070-51\n",
    "- 311.692.760-06"
   ]
  },
  {
   "cell_type": "code",
   "execution_count": null,
   "metadata": {},
   "outputs": [],
   "source": [
    "import unicodedata\n",
    "from difflib import SequenceMatcher\n",
    "import numpy as np\n",
    "import re\n"
   ]
  },
  {
   "cell_type": "code",
   "execution_count": 1,
   "metadata": {},
   "outputs": [
    {
     "data": {
      "text/plain": [
       "{'217.894.500-71': True,\n",
       " '112.622.670-05': True,\n",
       " '695.226.930-49': True,\n",
       " '015.897.070-51': False,\n",
       " '311.692.760-06': False}"
      ]
     },
     "execution_count": 1,
     "metadata": {},
     "output_type": "execute_result"
    }
   ],
   "source": [
    "def validar_cpf(cpf):\n",
    "    # Remover caracteres não numéricos\n",
    "    cpf = ''.join([c for c in cpf if c.isdigit()])\n",
    "    \n",
    "    # Verificar se o CPF tem 11 dígitos \n",
    "    if len(cpf) != 11 or cpf == cpf[0] * 11:\n",
    "        return False\n",
    "    \n",
    "    # Calcular o dígito verificador\n",
    "    def calcular_digito(cpf, peso_inicial):\n",
    "        soma = 0\n",
    "        for i in range(peso_inicial - 1):\n",
    "            soma += int(cpf[i]) * (peso_inicial - i)\n",
    "        resto = (soma * 10) % 11\n",
    "        return 0 if resto == 10 else resto\n",
    "    \n",
    "    # Calcular o primeiro dígito verificador\n",
    "    digito1 = calcular_digito(cpf, 10)\n",
    "    \n",
    "    # Calcular o segundo dígito verificador\n",
    "    digito2 = calcular_digito(cpf[:9] + str(digito1), 11)\n",
    "    \n",
    "    # Verificar se os dígitos calculados coincidem com os do CPF\n",
    "    return cpf[-2:] == f\"{digito1}{digito2}\"\n",
    "\n",
    "# CPFs para teste\n",
    "cpfs = [\n",
    "    \"217.894.500-71\",\n",
    "    \"112.622.670-05\",\n",
    "    \"695.226.930-49\",\n",
    "    \"015.897.070-51\",\n",
    "    \"311.692.760-06\"\n",
    "]\n",
    "\n",
    "# Testando os CPFs\n",
    "resultados = {cpf: validar_cpf(cpf) for cpf in cpfs}\n",
    "resultados\n"
   ]
  },
  {
   "attachments": {},
   "cell_type": "markdown",
   "metadata": {},
   "source": [
    "b) Quais critérios você utilizaria para indicar se um telefone celular é válido ou\n",
    "não em termos estruturais? Construa um algoritmo para automatizar esse\n",
    "processo e realize um teste com os seguintes telefones, indicando aqueles\n",
    "que são válidos ou não:\n",
    "- (64) 96743-8065\n",
    "- (75) 89555-5682\n",
    "- (99) 98362-0347\n",
    "- (10) 98595-1389"
   ]
  },
  {
   "attachments": {},
   "cell_type": "markdown",
   "metadata": {},
   "source": [
    "Para verificar se um telefone celular brasileiro é válido em termos estruturais, alguns critérios podem ser utilizados:\n",
    "\n",
    "Critérios para validar um telefone celular no Brasil:\n",
    "- DDD válido: O DDD (código de área) deve ser composto por dois dígitos e corresponder a uma região válida no Brasil. Os DDDs válidos estão na faixa de 11 a 99, e \"10\" não é um DDD válido.\n",
    "- Primeiro dígito do número: No Brasil, números de celular devem começar com o dígito 9.\n",
    "- Quantidade de dígitos: O número de telefone, excluindo o DDD, deve ter 9 dígitos.\n",
    "- Faixa do segundo dígito: O segundo dígito de números de celular geralmente está na faixa de 6 a 9 (mas isso pode variar regionalmente).\n",
    "- Com base nesses critérios, vamos construir um algoritmo para validar telefones celulares."
   ]
  },
  {
   "cell_type": "code",
   "execution_count": 2,
   "metadata": {},
   "outputs": [
    {
     "data": {
      "text/plain": [
       "{'(64) 96743-8065': True,\n",
       " '(75) 89555-5682': False,\n",
       " '(99) 98362-0347': True,\n",
       " '(10) 98595-1389': False}"
      ]
     },
     "execution_count": 2,
     "metadata": {},
     "output_type": "execute_result"
    }
   ],
   "source": [
    "def validar_telefone(telefone):\n",
    "    # Remover caracteres não numéricos\n",
    "    telefone = ''.join([c for c in telefone if c.isdigit()])\n",
    "    \n",
    "    # Verificar se o telefone tem 11 dígitos (2 para o DDD + 9 para o número)\n",
    "    if len(telefone) != 11:\n",
    "        return False\n",
    "    \n",
    "    # Extrair o DDD e o número\n",
    "    ddd = telefone[:2]\n",
    "    numero = telefone[2:]\n",
    "    \n",
    "    # Verificar se o DDD está na faixa válida\n",
    "    if not (11 <= int(ddd) <= 99):\n",
    "        return False\n",
    "    \n",
    "    # Verificar se o número começa com 9 e o segundo dígito está na faixa de 6 a 9\n",
    "    if numero[0] != '9' or not (6 <= int(numero[1]) <= 9):\n",
    "        return False\n",
    "    \n",
    "    return True\n",
    "\n",
    "# Telefones para teste\n",
    "telefones = [\n",
    "    \"(64) 96743-8065\",\n",
    "    \"(75) 89555-5682\",\n",
    "    \"(99) 98362-0347\",\n",
    "    \"(10) 98595-1389\"\n",
    "]\n",
    "\n",
    "# Testando os telefones\n",
    "resultados_telefones = {telefone: validar_telefone(telefone) for telefone in telefones}\n",
    "resultados_telefones\n"
   ]
  },
  {
   "attachments": {},
   "cell_type": "markdown",
   "metadata": {},
   "source": [
    "c) Erros e variações de escrita são comuns em processos de preenchimento de\n",
    "dados como nomes. Com isso em mente, qual estratégia você tomaria para\n",
    "que em um contexto de avaliação, um modelo retornasse True para as\n",
    "seguintes comparações:\n",
    "- Fernando dos Santos / Fernando Santos\n",
    "- Maria da Silva Rodrigues / Maria Rodrigues\n",
    "- João Roberto / joao robert\n"
   ]
  },
  {
   "cell_type": "code",
   "execution_count": 3,
   "metadata": {},
   "outputs": [
    {
     "data": {
      "text/plain": [
       "{'Fernando dos Santos / Fernando Santos': True,\n",
       " 'Maria da Silva Rodrigues / Maria Rodrigues': True,\n",
       " 'João Roberto / joao robert': True}"
      ]
     },
     "execution_count": 3,
     "metadata": {},
     "output_type": "execute_result"
    }
   ],
   "source": [
    "\n",
    "# Função para normalizar os nomes (remover acentos e palavras comuns)\n",
    "def normalizar_nome(nome):\n",
    "  \n",
    "    nome = ''.join(c for c in unicodedata.normalize('NFD', nome) if unicodedata.category(c) != 'Mn')\n",
    "    \n",
    "    # Converter para minúsculas e remover palavras comuns\n",
    "    palavras_comuns = {'da', 'de', 'do', 'dos', 'das'}\n",
    "    palavras = nome.lower().split()\n",
    "    palavras_filtradas = [p for p in palavras if p not in palavras_comuns]\n",
    "    \n",
    "    return ' '.join(palavras_filtradas)\n",
    "\n",
    "# Função para comparar nomes com base na similaridade\n",
    "def comparar_nomes(nome1, nome2, threshold=0.8):\n",
    "  \n",
    "    nome1_norm = normalizar_nome(nome1)\n",
    "    nome2_norm = normalizar_nome(nome2)\n",
    "    similaridade = SequenceMatcher(None, nome1_norm, nome2_norm).ratio()\n",
    "    \n",
    "    return similaridade >= threshold\n",
    "\n",
    "# Testando os pares de nomes\n",
    "nomes = [\n",
    "    (\"Fernando dos Santos\", \"Fernando Santos\"),\n",
    "    (\"Maria da Silva Rodrigues\", \"Maria Rodrigues\"),\n",
    "    (\"João Roberto\", \"joao robert\")\n",
    "]\n",
    "\n",
    "# Comparando os nomes\n",
    "resultados_nomes = {f\"{nome1} / {nome2}\": comparar_nomes(nome1, nome2) for nome1, nome2 in nomes}\n",
    "resultados_nomes\n"
   ]
  },
  {
   "cell_type": "code",
   "execution_count": null,
   "metadata": {},
   "outputs": [],
   "source": []
  }
 ],
 "metadata": {
  "kernelspec": {
   "display_name": "teste_tecnico",
   "language": "python",
   "name": "python3"
  },
  "language_info": {
   "codemirror_mode": {
    "name": "ipython",
    "version": 3
   },
   "file_extension": ".py",
   "mimetype": "text/x-python",
   "name": "python",
   "nbconvert_exporter": "python",
   "pygments_lexer": "ipython3",
   "version": "3.11.3"
  },
  "orig_nbformat": 4
 },
 "nbformat": 4,
 "nbformat_minor": 2
}
